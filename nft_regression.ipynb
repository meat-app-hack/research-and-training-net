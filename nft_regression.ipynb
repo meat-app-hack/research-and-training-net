{
 "cells": [
  {
   "cell_type": "code",
   "execution_count": 6,
   "metadata": {},
   "outputs": [],
   "source": [
    "# import the necessary packages\n",
    "from tensorflow.keras.models import Sequential\n",
    "from tensorflow.keras.layers import BatchNormalization\n",
    "from tensorflow.keras.layers import Conv2D\n",
    "from tensorflow.keras.layers import MaxPooling2D\n",
    "from tensorflow.keras.layers import Activation\n",
    "from tensorflow.keras.layers import Dropout\n",
    "from tensorflow.keras.layers import Dense\n",
    "from tensorflow.keras.layers import Flatten\n",
    "from tensorflow.keras.layers import Input\n",
    "from tensorflow.keras.models import Model\n",
    "\n",
    "def create_cnn(width, height, depth, filters=(16, 32, 64), regress=False):\n",
    "    # initialize the input shape and channel dimension, assuming\n",
    "    # TensorFlow/channels-last ordering\n",
    "    inputShape = (height, width, depth)\n",
    "    chanDim = -1\n",
    "    # define the model input\n",
    "    inputs = Input(shape=inputShape)\n",
    "    # loop over the number of filters\n",
    "    for (i, f) in enumerate(filters):\n",
    "        # if this is the first CONV layer then set the input\n",
    "        # appropriately\n",
    "        if i == 0:\n",
    "            x = inputs\n",
    "        # CONV => RELU => BN => POOL\n",
    "        x = Conv2D(f, (3, 3), padding=\"same\")(x)\n",
    "        x = Activation(\"relu\")(x)\n",
    "        x = BatchNormalization(axis=chanDim)(x)\n",
    "        x = MaxPooling2D(pool_size=(2, 2))(x)\n",
    "        \n",
    "        # flatten the volume, then FC => RELU => BN => DROPOUT\n",
    "    x = Flatten()(x)\n",
    "    x = Dense(16)(x)\n",
    "    x = Activation(\"relu\")(x)\n",
    "    x = BatchNormalization(axis=chanDim)(x)\n",
    "    x = Dropout(0.5)(x)\n",
    "    # apply another FC layer, this one to match the number of nodes\n",
    "    # coming out of the MLP\n",
    "    x = Dense(4)(x)\n",
    "    x = Activation(\"relu\")(x)\n",
    "    # check to see if the regression node should be added\n",
    "    if regress:\n",
    "        x = Dense(1, activation=\"relu\")(x)\n",
    "    # construct the CNN\n",
    "    model = Model(inputs, x)\n",
    "    # return the CNN\n",
    "    return model"
   ]
  },
  {
   "cell_type": "code",
   "execution_count": 7,
   "metadata": {},
   "outputs": [],
   "source": [
    "from tensorflow.keras.optimizers import Adam\n",
    "import numpy as np\n",
    "import argparse\n",
    "import locale\n",
    "import os"
   ]
  },
  {
   "cell_type": "code",
   "execution_count": 8,
   "metadata": {},
   "outputs": [],
   "source": [
    "import pandas as pd\n",
    "\n",
    "df = pd.read_csv('set/labels_4k.csv', sep=',', header=None)\n",
    "df.columns = ['NAME','MAX_BID_USD']\n",
    "\n",
    "norm = True\n",
    "if norm:\n",
    "    x_std = df[\"MAX_BID_USD\"].std()\n",
    "    x_mean = df[\"MAX_BID_USD\"].mean()\n",
    "    \n",
    "    df[\"MAX_BID_USD\"]=(df[\"MAX_BID_USD\"]-df[\"MAX_BID_USD\"].mean())/df[\"MAX_BID_USD\"].std()\n",
    "    #min_max_normalized_df=(df-df.min())/(df.max()-df.min())"
   ]
  },
  {
   "cell_type": "code",
   "execution_count": 9,
   "metadata": {},
   "outputs": [
    {
     "name": "stdout",
     "output_type": "stream",
     "text": [
      "Found 3965 validated image filenames.\n"
     ]
    }
   ],
   "source": [
    "from keras.preprocessing.image import ImageDataGenerator\n",
    "from tensorflow.keras.optimizers import Adam\n",
    "from keras import optimizers\n",
    "\n",
    "\n",
    "datagen=ImageDataGenerator(rescale=1./255)\n",
    "input_h,input_w = 300, 300\n",
    "\n",
    "train_generator = datagen.flow_from_dataframe(dataframe=df, \n",
    "                                              directory=r\"C:\\Users\\sondors\\Desktop\\hack\\set\\img_4k\", \n",
    "                                               x_col=\"NAME\", y_col=\"MAX_BID_USD\", \n",
    "                                               class_mode=\"raw\", \n",
    "                                               target_size=(input_h,input_w), \n",
    "                                               batch_size=10)"
   ]
  },
  {
   "cell_type": "code",
   "execution_count": 11,
   "metadata": {},
   "outputs": [
    {
     "name": "stdout",
     "output_type": "stream",
     "text": [
      "WARNING:tensorflow:sample_weight modes were coerced from\n",
      "  ...\n",
      "    to  \n",
      "  ['...']\n",
      "Train for 396 steps\n",
      "Epoch 1/20\n",
      "396/396 [==============================] - 13s 33ms/step - loss: 4130.0789\n",
      "Epoch 2/20\n",
      "396/396 [==============================] - 12s 29ms/step - loss: 208.6258 6s - loss: 3 - ET\n",
      "Epoch 3/20\n",
      "396/396 [==============================] - 12s 29ms/step - loss: 112.1351\n",
      "Epoch 4/20\n",
      "396/396 [==============================] - 12s 29ms/step - loss: 102.5807\n",
      "Epoch 5/20\n",
      "396/396 [==============================] - 12s 29ms/step - loss: 101.1947\n",
      "Epoch 6/20\n",
      "396/396 [==============================] - 12s 29ms/step - loss: 100.0565- ETA: \n",
      "Epoch 7/20\n",
      "396/396 [==============================] - 12s 29ms/step - loss: 101.3170 4s  - ETA: 3s - loss: 101. - ETA: 3s - loss: 101. - ETA - ETA: 0s - loss: 1\n",
      "Epoch 8/20\n",
      "396/396 [==============================] - 12s 29ms/step - loss: 101.0325 6s - loss: 101. - ETA: - ETA:  - ETA: 0s - loss: \n",
      "Epoch 9/20\n",
      "396/396 [==============================] - 12s 29ms/step - loss: 102.0382\n",
      "Epoch 10/20\n",
      "396/396 [==============================] - 12s 29ms/step - loss: 102.2464 0s - loss: \n",
      "Epoch 11/20\n",
      "396/396 [==============================] - 12s 29ms/step - loss: 100.2536A: 4s - loss: 100. - \n",
      "Epoch 12/20\n",
      "396/396 [==============================] - 12s 29ms/step - loss: 100.0000 0s - loss: 100\n",
      "Epoch 13/20\n",
      "396/396 [==============================] - 12s 29ms/step - loss: 103.7654- ETA: 9s - loss: 100.000 - ET - ETA: 3s - loss:  -  - ETA: 1s - loss:  - ETA\n",
      "Epoch 14/20\n",
      "396/396 [==============================] - 12s 29ms/step - loss: 100.0000 9s - loss: - ETA: - ETA: 6s - l - ETA: 5s - - ETA: 4s  - ETA: 3s - lo - ETA: 3s - loss: 100. - E \n",
      "Epoch 15/20\n",
      "396/396 [==============================] - 12s 29ms/step - loss: 100.0000\n",
      "Epoch 16/20\n",
      "396/396 [==============================] - 12s 29ms/step - loss: 99.98541s - ETA: 0s - ETA: 0s\n",
      "Epoch 17/20\n",
      "396/396 [==============================] - 12s 29ms/step - loss: 100.0000\n",
      "Epoch 18/20\n",
      "396/396 [==============================] - 12s 29ms/step - loss: 100.0000\n",
      "Epoch 19/20\n",
      "396/396 [==============================] - 12s 29ms/step - loss: 100.0000 - ETA: 0s \n",
      "Epoch 20/20\n",
      "396/396 [==============================] - 12s 29ms/step - loss: 100.0000 2s \n"
     ]
    }
   ],
   "source": [
    "model = create_cnn(input_h, input_w, 3, regress=True)\n",
    "opt = 'rmsprop'# Adam(lr=1e-2, decay=1e-2)#'rmsprop'#\n",
    "model.compile(loss=\"mean_absolute_percentage_error\", optimizer=opt)\n",
    "\n",
    "\n",
    "STEP_SIZE_TRAIN=train_generator.n//train_generator.batch_size\n",
    "\n",
    "history = model.fit_generator(generator=train_generator,\n",
    "                    steps_per_epoch=STEP_SIZE_TRAIN,\n",
    "                    epochs=20)"
   ]
  },
  {
   "cell_type": "code",
   "execution_count": 12,
   "metadata": {},
   "outputs": [
    {
     "data": {
      "image/png": "[encoded data removed]",
      "text/plain": [
       "<Figure size 432x288 with 1 Axes>"
      ]
     },
     "metadata": {
      "needs_background": "light"
     },
     "output_type": "display_data"
    }
   ],
   "source": [
    "import matplotlib.pyplot as plt\n",
    "\n",
    "history_dict = history.history\n",
    "loss_values = history_dict['loss']\n",
    "\n",
    "#val_loss_values = history_dict['val_loss']\n",
    "epochs = range(1, 20 + 1)\n",
    "\n",
    "plt.plot(epochs, loss_values, 'b', label='Training loss')\n",
    "#plt.plot(epochs, val_loss_values, 'bo', label='Validation loss')\n",
    "plt.title('Training and validation loss tutorial net')\n",
    "plt.xlabel('Epochs')\n",
    "plt.ylabel('Loss')\n",
    "plt.legend()\n",
    "plt.show()"
   ]
  },
  {
   "cell_type": "code",
   "execution_count": 13,
   "metadata": {},
   "outputs": [
    {
     "name": "stdout",
     "output_type": "stream",
     "text": [
      "0.jpg 7092.949760041451 $\n",
      "1.jpg 7092.949760041451 $\n",
      "2.jpg 7092.949760041451 $\n",
      "3.jpg 7092.949760041451 $\n",
      "4.jpg 7092.949760041451 $\n",
      "5.jpg 7092.949760041451 $\n",
      "6.jpg 7092.949760041451 $\n",
      "7.jpg 7092.949760041451 $\n",
      "8.jpg 7092.949760041451 $\n",
      "9.jpg 7092.949760041451 $\n",
      "10.jpg 7092.949760041451 $\n",
      "11.jpg 7092.949760041451 $\n",
      "12.jpg 7092.949760041451 $\n",
      "13.jpg 7092.949760041451 $\n",
      "14.jpg 7092.949760041451 $\n",
      "15.jpg 7092.949760041451 $\n",
      "16.jpg 7092.949760041451 $\n",
      "17.jpg 7092.949760041451 $\n",
      "18.jpg 7092.949760041451 $\n",
      "19.jpg 7092.949760041451 $\n",
      "20.jpg 7092.949760041451 $\n",
      "21.jpg 7092.949760041451 $\n",
      "22.jpg 7092.949760041451 $\n",
      "23.jpg 7092.949760041451 $\n",
      "24.jpg 7092.949760041451 $\n",
      "25.jpg 7092.949760041451 $\n",
      "26.jpg 7092.949760041451 $\n",
      "27.jpg 7092.949760041451 $\n",
      "28.jpg 7092.949760041451 $\n",
      "29.jpg 7092.949760041451 $\n",
      "30.jpg 7092.949760041451 $\n",
      "31.jpg 7092.949760041451 $\n",
      "32.jpg 7092.949760041451 $\n",
      "33.jpg 7092.949760041451 $\n",
      "34.jpg 7092.949760041451 $\n",
      "35.jpg 7092.949760041451 $\n",
      "36.jpg 7092.949760041451 $\n",
      "37.jpg 7092.949760041451 $\n",
      "38.jpg 7092.949760041451 $\n",
      "39.jpg 7092.949760041451 $\n",
      "40.jpg 7092.949760041451 $\n",
      "41.jpg 7092.949760041451 $\n",
      "42.jpg 7092.949760041451 $\n",
      "43.jpg 7092.949760041451 $\n",
      "44.jpg 7092.949760041451 $\n",
      "45.jpg 7092.949760041451 $\n",
      "46.jpg 7092.949760041451 $\n",
      "47.jpg 7092.949760041451 $\n",
      "48.jpg 7092.949760041451 $\n",
      "49.jpg 7092.949760041451 $\n",
      "50.jpg 7092.949760041451 $\n",
      "51.jpg 1237945.6606071235 $\n",
      "52.jpg 7092.949760041451 $\n",
      "53.jpg 7092.949760041451 $\n",
      "54.jpg 7092.949760041451 $\n",
      "55.jpg 7092.949760041451 $\n",
      "56.jpg 7092.949760041451 $\n",
      "57.jpg 7092.949760041451 $\n",
      "58.jpg 7092.949760041451 $\n",
      "59.jpg 7092.949760041451 $\n",
      "60.jpg 7092.949760041451 $\n",
      "61.jpg 7092.949760041451 $\n",
      "62.jpg 7092.949760041451 $\n",
      "63.jpg 7092.949760041451 $\n",
      "64.jpg 7092.949760041451 $\n",
      "65.jpg 7092.949760041451 $\n",
      "66.jpg 7092.949760041451 $\n",
      "67.jpg 7092.949760041451 $\n",
      "68.jpg 7092.949760041451 $\n",
      "69.jpg 7092.949760041451 $\n",
      "70.jpg 7092.949760041451 $\n",
      "71.jpg 7092.949760041451 $\n",
      "72.jpg 7092.949760041451 $\n",
      "73.jpg 7092.949760041451 $\n",
      "74.jpg 7092.949760041451 $\n",
      "75.jpg 7092.949760041451 $\n",
      "76.jpg 7092.949760041451 $\n",
      "77.jpg 7092.949760041451 $\n",
      "78.jpg 7092.949760041451 $\n",
      "79.jpg 7092.949760041451 $\n",
      "80.jpg 7092.949760041451 $\n",
      "81.jpg 7092.949760041451 $\n",
      "82.jpg 7092.949760041451 $\n",
      "83.jpg 7092.949760041451 $\n",
      "84.jpg 7092.949760041451 $\n",
      "85.jpg 7092.949760041451 $\n",
      "86.jpg 7092.949760041451 $\n",
      "87.jpg 7092.949760041451 $\n",
      "88.jpg 7092.949760041451 $\n",
      "89.jpg 7092.949760041451 $\n",
      "90.jpg 7092.949760041451 $\n",
      "91.jpg 7092.949760041451 $\n",
      "92.jpg 7092.949760041451 $\n",
      "93.jpg 7092.949760041451 $\n",
      "94.jpg 7092.949760041451 $\n",
      "95.jpg 7092.949760041451 $\n",
      "96.jpg 7092.949760041451 $\n",
      "97.jpg 7092.949760041451 $\n",
      "98.jpg 7092.949760041451 $\n",
      "99.jpg 7092.949760041451 $\n"
     ]
    }
   ],
   "source": [
    "from tensorflow.keras.preprocessing import image\n",
    "import numpy as np\n",
    "\n",
    "for i in range(100):\n",
    "    img_path = r'C:\\Users\\sondors\\Desktop\\hack\\set\\img_4k\\{}.jpg'.format(i)\n",
    "\n",
    "    img = image.load_img(img_path, target_size=(300, 300))\n",
    "\n",
    "    img_array = image.img_to_array(img)\n",
    "    img_batch = np.expand_dims(img_array, axis=0)\n",
    "    \n",
    "    x = model.predict(img_batch)[0][0]\n",
    "    x = x * x_std + x_mean\n",
    "    print('{}.jpg'.format(i), x, '$')"
   ]
  },
  {
   "cell_type": "code",
   "execution_count": 14,
   "metadata": {},
   "outputs": [
    {
     "data": {
      "text/plain": [
       "7092.949760041451"
      ]
     },
     "execution_count": 14,
     "metadata": {},
     "output_type": "execute_result"
    }
   ],
   "source": [
    "x_mean"
   ]
  },
  {
   "cell_type": "code",
   "execution_count": null,
   "metadata": {},
   "outputs": [],
   "source": []
  }
 ],
 "metadata": {
  "kernelspec": {
   "display_name": "Python 3",
   "language": "python",
   "name": "python3"
  },
  "language_info": {
   "codemirror_mode": {
    "name": "ipython",
    "version": 3
   },
   "file_extension": ".py",
   "mimetype": "text/x-python",
   "name": "python",
   "nbconvert_exporter": "python",
   "pygments_lexer": "ipython3",
   "version": "3.7.11"
  }
 },
 "nbformat": 4,
 "nbformat_minor": 4
}
